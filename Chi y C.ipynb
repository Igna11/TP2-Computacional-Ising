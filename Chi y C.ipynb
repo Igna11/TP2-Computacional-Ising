{
 "cells": [
  {
   "cell_type": "code",
   "execution_count": 1,
   "metadata": {},
   "outputs": [],
   "source": [
    "import numpy as np\n",
    "import matplotlib.pyplot as plt\n",
    "import os"
   ]
  },
  {
   "cell_type": "code",
   "execution_count": 2,
   "metadata": {},
   "outputs": [],
   "source": [
    "os.chdir(r'C:\\Users\\Paula\\Documents\\Facultad\\Física Computacional\\Ising')\n",
    "\n",
    "M = np.loadtxt('Correlacion_MvsJ_dim32_Barridos1100000.txt')\n",
    "E = np.loadtxt('Correlacion_EvsJ_dim32_Barridos1100000.txt')\n",
    "# habria que darle M a la funcion Chi y E a la funcion Calor."
   ]
  },
  {
   "cell_type": "code",
   "execution_count": 18,
   "metadata": {},
   "outputs": [],
   "source": [
    "def Chi(archivo,tau,destermalizo):\n",
    "    Cant_J = len(archivo[:,0])\n",
    "    N_total = len(archivo[0,:])\n",
    "    Js = []\n",
    "    Mcuad_prom = []\n",
    "    M_prom = []\n",
    "    for j in range (Cant_J):\n",
    "        Js.append(1/archivo[j,0]) # creo el vector de 1/J's\n",
    "        M2 = 0\n",
    "        M1 = 0\n",
    "        \n",
    "        M_seleccion = []\n",
    "        # Aca selecciono los M's con los que voy a trabajar de toda la tira de M's que hay para un J (elegidos para que esten descorrelacionados segun el tau ingresado)\n",
    "        for k in range (destermalizo,N_total,tau):\n",
    "            M_seleccion.append(archivo[j,k]) \n",
    "    \n",
    "        N = len(M_seleccion)\n",
    "        for i in range (0,N):\n",
    "            M2 += M_seleccion[i]**2 # sumo los elementos de M_seleccion al cuadrado, esto para scar el promedio <M^2>\n",
    "            M1 += M_seleccion[i] # sumo los elementos de M_seleccion, esto para scar el promedio <M>\n",
    "        promM2 = M2/N # Divido por la longitud para tener el promedio\n",
    "        promM1 = M1/N # idem\n",
    "        Mcuad_prom.append(promM2) # en el vector Mcuad_prom guardo en la misma posicion que su J, el valor de <M^2>\n",
    "        M_prom.append(promM1) # en el vector M_prom guardo en la misma posicion que su J, el valor de <M>\n",
    "\n",
    "    Chi = (np.array(Mcuad_prom) - np.array(M_prom)**2)*N # vector de chi para cada J\n",
    "\n",
    "    # Ahora tenemos un vector de Chi y su correspondiente J entonces podemos pltear:\n",
    "\n",
    "    plt.figure(figsize = (9,7))\n",
    "    plt.plot(Js,Chi,'mo',fillstyle = 'none')\n",
    "    plt.xlabel('1/J*', fontsize = 15);\n",
    "    plt.ylabel('Chi', fontsize = 15);\n",
    "    plt.grid();\n",
    "    plt.show();\n",
    "    \n",
    "    \n",
    "    \n",
    "    \n",
    "def Calor(archivo,tau,destermalizo):\n",
    "    Cant_J = len(archivo[:,0])\n",
    "    N_total = len(archivo[0,:])\n",
    "    Js = []\n",
    "    Ecuad_prom = []\n",
    "    E_prom = []\n",
    "    for j in range (Cant_J):\n",
    "        Js.append(1/archivo[j,0]) # creo el vector de 1/J's\n",
    "        E2 = 0\n",
    "        E1 = 0\n",
    "        E_seleccion = []\n",
    "        # Aca selecciono los E's con los que voy a trabajar de toda la tira de E's que hay para un J (elegidos para que esten descorrelacionados segun el tau ingresado)\n",
    "        for k in range (destermalizo,N_total,tau):\n",
    "            E_seleccion.append(archivo[j,k]) \n",
    "    \n",
    "        N = len(E_seleccion)\n",
    "        for i in range (0,N):\n",
    "            E2 += E_seleccion[i]**2 # sumo los elementos de M_seleccion al cuadrado, esto para scar el promedio <M^2>\n",
    "            E1 += E_seleccion[i] # sumo los elementos de M_seleccion, esto para scar el promedio <M>\n",
    "        promE2 = E2/N # Divido por la longitud para tener el promedio\n",
    "        promE1 = E1/N # idem\n",
    "        Ecuad_prom.append(promE2) # en el vector Mcuad_prom guardo en la misma posicion que su J, el valor de <M^2>\n",
    "        E_prom.append(promE1) # en el vector M_prom guardo en la misma posicion que su J, el valor de <M>\n",
    "\n",
    "    Calor = (np.array(Ecuad_prom) - np.array(E_prom)**2)*N # vector de chi para cada J\n",
    "\n",
    "    # Ahora tenemos un vector de Chi y su correspondiente J entonces podemos pltear:\n",
    "\n",
    "    plt.figure(figsize = (9,7))\n",
    "    plt.plot(Js,Calor,'mo',fillstyle = 'none')\n",
    "    plt.xlabel('1/J*', fontsize = 15);\n",
    "    plt.ylabel('Calor', fontsize = 15);\n",
    "    plt.grid();\n",
    "    plt.show();"
   ]
  },
  {
   "cell_type": "code",
   "execution_count": 19,
   "metadata": {},
   "outputs": [
    {
     "data": {
      "image/png": "[encoded data removed]",
      "text/plain": [
       "<Figure size 648x504 with 1 Axes>"
      ]
     },
     "metadata": {
      "needs_background": "light"
     },
     "output_type": "display_data"
    },
    {
     "data": {
      "image/png": "[encoded data removed]",
      "text/plain": [
       "<Figure size 648x504 with 1 Axes>"
      ]
     },
     "metadata": {
      "needs_background": "light"
     },
     "output_type": "display_data"
    }
   ],
   "source": [
    "Chi(M,5000,100000)\n",
    "Calor(E,5000,100000)"
   ]
  },
  {
   "cell_type": "code",
   "execution_count": null,
   "metadata": {},
   "outputs": [],
   "source": []
  }
 ],
 "metadata": {
  "kernelspec": {
   "display_name": "Python 3",
   "language": "python",
   "name": "python3"
  },
  "language_info": {
   "codemirror_mode": {
    "name": "ipython",
    "version": 3
   },
   "file_extension": ".py",
   "mimetype": "text/x-python",
   "name": "python",
   "nbconvert_exporter": "python",
   "pygments_lexer": "ipython3",
   "version": "3.7.1"
  }
 },
 "nbformat": 4,
 "nbformat_minor": 2
}
