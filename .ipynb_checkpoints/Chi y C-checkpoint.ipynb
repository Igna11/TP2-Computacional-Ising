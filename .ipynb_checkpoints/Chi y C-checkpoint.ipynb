{
 "cells": [
  {
   "cell_type": "code",
   "execution_count": 1,
   "metadata": {},
   "outputs": [],
   "source": [
    "import numpy as np\n",
    "import matplotlib.pyplot as plt\n",
    "import os"
   ]
  },
  {
   "cell_type": "code",
   "execution_count": null,
   "metadata": {},
   "outputs": [],
   "source": [
    "M = np.loadtxt('ARCHIVOQUECONTIENEAM.txt')\n",
    "E = np.loadtxt('ARCHIVOQUECONTIENEAE.txt')\n",
    "# habria que darle M a la funcion Chi y E a la funcion Calor."
   ]
  },
  {
   "cell_type": "code",
   "execution_count": 2,
   "metadata": {},
   "outputs": [],
   "source": [
    "def Chi(archivo):\n",
    "    Cant_J = len(archivo)\n",
    "    N = len(archivo[0,:])\n",
    "    Js = []\n",
    "    Mcuad_prom = []\n",
    "    M_prom = []\n",
    "    M2 = 0\n",
    "    M1 = 0\n",
    "    for j in range (N):\n",
    "        Js[j] = archivo[j,0] # creo el vector de J's que tiene simplemente los J..\n",
    "        for i in range (1,N):\n",
    "            M2 += archivo[j,i]**2 # agarro los M's que le corresponden a un J (que es el vector de 1 al final despues de ese J) y sumo sus elementos al cuadrado, esto para scar el promedio <M^2>\n",
    "            M1 += archivo[j,i] # agarro los M's que le corresponden a un J (que es el vector de 1 al final despues de ese J) y sumo sus elementos, esto para scar el promedio <M>\n",
    "        promM2 = M2/N # Divido por la longitud para tener el promedio\n",
    "        promM1 = M1/N # idem\n",
    "        Mcuad_prom[j] = promM2 # en el vector Mcuad_prom guardo en la misma posicion que su J, el valor de <M^2>\n",
    "        M_prom[j] = promM1 # en el vector M_prom guardo en la misma posicion que su J, el valor de <M>\n",
    "\n",
    "    Chi = (Mcuad_prom - M_prom)*N # vector de chi para cada J\n",
    "\n",
    "    # Ahora tenemos un vector de Chi y su correspondiente J entonces podemos pltear:\n",
    "\n",
    "    plt.plot(Js,Chi,'.')"
   ]
  },
  {
   "cell_type": "code",
   "execution_count": 3,
   "metadata": {},
   "outputs": [],
   "source": [
    "def Calor(archivo):\n",
    "    Cant_J = len(archivo)\n",
    "    N = len(archivo[0,:])\n",
    "    Js = []\n",
    "    Ecuad_prom = []\n",
    "    E_prom = []\n",
    "    E2 = 0\n",
    "    E1 = 0\n",
    "    for j in range (N):\n",
    "        Js[j] = archivo[j,0] # creo el vector de J's que tiene simplemente los J..\n",
    "        for i in range (1,N):\n",
    "            E2 += archivo[j,i]**2 # agarro los E's que le corresponden a un J (que es el vector de 1 al final despues de ese J) y sumo sus elementos al cuadrado, esto para scar el promedio <E^2>\n",
    "            E1 += archivo[j,i] # agarro los E's que le corresponden a un J (que es el vector de 1 al final despues de ese J) y sumo sus elementos, esto para scar el promedio <E>\n",
    "        promE2 = E2/N # Divido por la longitud para tener el promedio\n",
    "        promE1 = E1/N # idem\n",
    "        Ecuad_prom[j] = promE2 # en el vector Ecuad_prom guardo en la misma posicion que su J, el valor de <E^2>\n",
    "        E_prom[j] = promE1 # en el vector E_prom guardo en la misma posicion que su J, el valor de <E>\n",
    "\n",
    "    Calor = (Ecuad_prom - E_prom)*N # vector de calor para cada J (CHEQUEAR POR QUÉ HAY QUE MULTIPLICAR)\n",
    "\n",
    "    # Ahora tenemos un vector de Chi y su correspondiente J entonces podemos pltear:\n",
    "\n",
    "    plt.plot(Js,Calor,'.')"
   ]
  },
  {
   "cell_type": "code",
   "execution_count": null,
   "metadata": {},
   "outputs": [],
   "source": []
  },
  {
   "cell_type": "code",
   "execution_count": null,
   "metadata": {},
   "outputs": [],
   "source": []
  },
  {
   "cell_type": "code",
   "execution_count": null,
   "metadata": {},
   "outputs": [],
   "source": []
  }
 ],
 "metadata": {
  "kernelspec": {
   "display_name": "Python 3",
   "language": "python",
   "name": "python3"
  },
  "language_info": {
   "codemirror_mode": {
    "name": "ipython",
    "version": 3
   },
   "file_extension": ".py",
   "mimetype": "text/x-python",
   "name": "python",
   "nbconvert_exporter": "python",
   "pygments_lexer": "ipython3",
   "version": "3.7.1"
  }
 },
 "nbformat": 4,
 "nbformat_minor": 2
}
