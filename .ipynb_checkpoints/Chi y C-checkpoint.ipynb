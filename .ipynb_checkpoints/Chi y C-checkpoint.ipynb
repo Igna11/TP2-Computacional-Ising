{
 "cells": [
  {
   "cell_type": "code",
   "execution_count": 1,
   "metadata": {},
   "outputs": [],
   "source": [
    "import numpy as np\n",
    "import matplotlib.pyplot as plt\n",
    "import os"
   ]
  },
  {
   "cell_type": "code",
   "execution_count": 4,
   "metadata": {},
   "outputs": [],
   "source": [
    "os.chdir(r'C:\\Users\\Paula\\Documents\\Facultad\\Física Computacional\\Ising')\n",
    "\n",
    "M = np.loadtxt('Correlacion_MvsJ_dim32_Barridos1100000.txt')\n",
    "E = np.loadtxt('Correlacion_EvsJ_dim32_Barridos1100000.txt')\n",
    "# habria que darle M a la funcion Chi y E a la funcion Calor."
   ]
  },
  {
   "cell_type": "code",
   "execution_count": 125,
   "metadata": {},
   "outputs": [],
   "source": [
    "def Chi(archivo,tau):\n",
    "    Cant_J = len(archivo[:,0])\n",
    "    N = len(archivo[0,100000:100000+tau])\n",
    "    Js = []\n",
    "    Mcuad_prom = []\n",
    "    M_prom = []\n",
    "    M2 = 0\n",
    "    M1 = 0\n",
    "    for j in range (Cant_J):\n",
    "        Js.append(1/archivo[j,0]) # creo el vector de J's que tiene simplemente los J..\n",
    "        for i in range (1,N):\n",
    "            M2 += archivo[j,i]**2 # agarro los M's que le corresponden a un J (que es el vector de 1 al final despues de ese J) y sumo sus elementos al cuadrado, esto para scar el promedio <M^2>\n",
    "            M1 += archivo[j,i] # agarro los M's que le corresponden a un J (que es el vector de 1 al final despues de ese J) y sumo sus elementos, esto para scar el promedio <M>\n",
    "        promM2 = M2/N # Divido por la longitud para tener el promedio\n",
    "        promM1 = M1/N # idem\n",
    "        Mcuad_prom.append(promM2) # en el vector Mcuad_prom guardo en la misma posicion que su J, el valor de <M^2>\n",
    "        M_prom.append(promM1) # en el vector M_prom guardo en la misma posicion que su J, el valor de <M>\n",
    "\n",
    "    Chi = (np.array(Mcuad_prom) - np.array(M_prom)**2)*N # vector de chi para cada J\n",
    "\n",
    "    # Ahora tenemos un vector de Chi y su correspondiente J entonces podemos pltear:\n",
    "\n",
    "    plt.figure(figsize = (9,7))\n",
    "    plt.plot(Js,Chi,'ko',fillstyle = 'none')\n",
    "    plt.xlabel('1/J*', fontsize = 15);\n",
    "    plt.ylabel('Chi', fontsize = 15);\n",
    "    plt.axis([1.8,4,-0.2e12,0.3e12])\n",
    "    plt.grid();\n",
    "    plt.show();\n",
    "    \n",
    "def Calor(archivo,tau):\n",
    "    Cant_J = len(archivo[:,0])\n",
    "    N = len(archivo[0,100000:100000+tau])\n",
    "    Js = []\n",
    "    Ecuad_prom = []\n",
    "    E_prom = []\n",
    "    E2 = 0\n",
    "    E1 = 0\n",
    "    for j in range (Cant_J-1):\n",
    "        Js.append(1/archivo[j,0]) # creo el vector de J's que tiene simplemente los J..\n",
    "        for i in range (1,N):\n",
    "            E2 += archivo[j,i]**2 # agarro los E's que le corresponden a un J (que es el vector de 1 al final despues de ese J) y sumo sus elementos al cuadrado, esto para scar el promedio <E^2>\n",
    "            E1 += archivo[j,i] # agarro los E's que le corresponden a un J (que es el vector de 1 al final despues de ese J) y sumo sus elementos, esto para scar el promedio <E>\n",
    "        promE2 = E2/N # Divido por la longitud para tener el promedio\n",
    "        promE1 = E1/N # idem\n",
    "        Ecuad_prom.append(promE2) # en el vector Ecuad_prom guardo en la misma posicion que su J, el valor de <E^2>\n",
    "        E_prom.append(promE1) # en el vector E_prom guardo en la misma posicion que su J, el valor de <E>\n",
    "\n",
    "    Calor = (np.array(Ecuad_prom) - np.array(E_prom)**2)*N # vector de calor para cada J (CHEQUEAR POR QUÉ HAY QUE MULTIPLICAR)\n",
    "\n",
    "    # Ahora tenemos un vector de Chi y su correspondiente J entonces podemos pltear:\n",
    "\n",
    "    plt.figure(figsize = (9,7))\n",
    "    plt.plot(Js,Calor,'ko',fillstyle = 'none')\n",
    "    plt.xlabel('1/J*', fontsize = 15);\n",
    "    plt.ylabel('Calor', fontsize = 15);\n",
    "    plt.grid();\n",
    "    plt.show();"
   ]
  },
  {
   "cell_type": "code",
   "execution_count": 126,
   "metadata": {},
   "outputs": [
    {
     "data": {
      "image/png": "[encoded data removed]",
      "text/plain": [
       "<Figure size 648x504 with 1 Axes>"
      ]
     },
     "metadata": {
      "needs_background": "light"
     },
     "output_type": "display_data"
    },
    {
     "data": {
      "image/png": "[encoded data removed]",
      "text/plain": [
       "<Figure size 648x504 with 1 Axes>"
      ]
     },
     "metadata": {
      "needs_background": "light"
     },
     "output_type": "display_data"
    }
   ],
   "source": [
    "Chi(M,50000)\n",
    "Calor(E,50000)"
   ]
  },
  {
   "cell_type": "code",
   "execution_count": null,
   "metadata": {},
   "outputs": [],
   "source": []
  }
 ],
 "metadata": {
  "kernelspec": {
   "display_name": "Python 3",
   "language": "python",
   "name": "python3"
  },
  "language_info": {
   "codemirror_mode": {
    "name": "ipython",
    "version": 3
   },
   "file_extension": ".py",
   "mimetype": "text/x-python",
   "name": "python",
   "nbconvert_exporter": "python",
   "pygments_lexer": "ipython3",
   "version": "3.7.1"
  }
 },
 "nbformat": 4,
 "nbformat_minor": 2
}
